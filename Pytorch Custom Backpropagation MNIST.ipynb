{
 "cells": [
  {
   "cell_type": "markdown",
   "metadata": {},
   "source": [
    "Name: Yuan Chen\n",
    "ID: 9082757429"
   ]
  },
  {
   "cell_type": "code",
   "execution_count": 62,
   "metadata": {},
   "outputs": [],
   "source": [
    "import torch\n",
    "import torch.nn as nn\n",
    "import torch.optim as opt\n",
    "from torch.utils.data import DataLoader\n",
    "from torchvision import transforms, datasets\n",
    "import torch.nn.functional as F\n",
    "import numpy as np\n",
    "import matplotlib.pyplot as plt"
   ]
  },
  {
   "cell_type": "code",
   "execution_count": 63,
   "metadata": {},
   "outputs": [],
   "source": [
    "batch_size=64\n",
    "EPOCHS=200\n",
    "hidden_neurons=300\n",
    "# device=torch.device('cuda')"
   ]
  },
  {
   "cell_type": "code",
   "execution_count": 64,
   "metadata": {},
   "outputs": [],
   "source": [
    "train = datasets.MNIST(\"\", train=True, download=True, transform=transforms.Compose([transforms.ToTensor()]))\n",
    "test = datasets.MNIST(\"\", train=False, download=True, transform=transforms.Compose([transforms.ToTensor()]))\n",
    "\n",
    "#due to the long training time, this homework only use 10k training data points and 2000 testing datapoints\n",
    "train2, _ = torch.utils.data.random_split(train, [10000, len(train)-10000])\n",
    "test2, _ = torch.utils.data.random_split(test, [2000, len(test)-2000])"
   ]
  },
  {
   "cell_type": "code",
   "execution_count": 65,
   "metadata": {},
   "outputs": [],
   "source": [
    "trainset = DataLoader(train, batch_size=batch_size, shuffle=True)\n",
    "testset = DataLoader(test, batch_size=batch_size, shuffle=True)\n",
    "\n",
    "trainset2 = DataLoader(train2, batch_size=batch_size, shuffle=True)\n",
    "testset2 = DataLoader(test2, batch_size=batch_size, shuffle=True)"
   ]
  },
  {
   "cell_type": "code",
   "execution_count": 68,
   "metadata": {},
   "outputs": [],
   "source": [
    "def train_model(model, epochs):\n",
    "    train_loss = []\n",
    "    for epoch in range(epochs):\n",
    "        loss_sum = 0\n",
    "        for data in trainset2:\n",
    "            X, y = data\n",
    "            X = X.view(-1, 784)\n",
    "            opt.zero_grad()\n",
    "            y_pred = model(X)\n",
    "            loss = criterion(y_pred, y)\n",
    "            loss_sum += loss\n",
    "            loss.backward()\n",
    "            opt.step()\n",
    "        loss_avg = loss_sum*batch_size/len(trainset.dataset)\n",
    "        train_loss.append(loss_avg)\n",
    "    return train_loss\n",
    "    \n",
    "def test_model(model):\n",
    "    correct = 0\n",
    "    total = 0\n",
    "    model.eval()\n",
    "    with torch.no_grad():\n",
    "        for data in testset2:\n",
    "            X_t, y_t = data\n",
    "            X_t = X_t.view(-1, 784)\n",
    "            y_t_pred = model(X_t)\n",
    "            for idx, i in enumerate(y_t_pred):\n",
    "                if torch.argmax(i) == y_t[idx]:\n",
    "                    correct += 1\n",
    "                total += 1\n",
    "        acc = round(correct/total, 3)\n",
    "        err = round(1 - acc, 4)\n",
    "        print('accuracy: ', acc, '    error rate: ', err)\n",
    "    \n",
    "def plot_learning_curve(train_loss, epochs, title):\n",
    "    epoch_axis = []\n",
    "    for i in range(epochs):\n",
    "        epoch_axis.append(i)\n",
    "    \n",
    "    plt.plot(epoch_axis, train_loss)\n",
    "    plt.title(title)\n",
    "    plt.xlabel('epoch')\n",
    "    plt.ylabel('loss')"
   ]
  },
  {
   "cell_type": "code",
   "execution_count": 45,
   "metadata": {},
   "outputs": [],
   "source": [
    "#2 custom implementation of backpropagation\n",
    "class myNN():\n",
    "    def __init__(self, w1, w2):\n",
    "        self.w1 = w1\n",
    "        self.w2 = w2\n",
    "        self.z1 = None\n",
    "        self.z2 = None\n",
    "        self.a1 = None\n",
    "        self.a2 = None\n",
    "        \n",
    "    def forward(self, x):\n",
    "        self.z1 = torch.mm(self.w1, torch.t(x))\n",
    "        self.a1 = self.sigmoid(self.z1)\n",
    "        self.z2 = torch.mm(self.w2, self.a1)\n",
    "        self.a2 = torch.t(torch.softmax(self.z2, 0))\n",
    "        return self.a2\n",
    "    \n",
    "    def sigmoid(self, z):\n",
    "        #stable sigmoid\n",
    "        s = torch.where(z<0, torch.exp(z)/(1+torch.exp(z)), 1/(1+torch.exp(-z)))\n",
    "        return s\n",
    "        \n",
    "    def softmax(self, z):\n",
    "        exps = torch.exp(z - torch.max(z))\n",
    "        return exps / torch.sum(exps)\n",
    "    \n",
    "    def get_loss(self, y, y_pred):\n",
    "        y_1hot = F.one_hot(y, num_classes=10)\n",
    "        loss = 0\n",
    "        m = y.shape[0]\n",
    "        loss = -torch.sum(y_1hot * torch.log(y_pred.clip(min=1e-8)))\n",
    "        return loss\n",
    "\n",
    "    def loss_grad(self, y, y_pred):\n",
    "        n = 10\n",
    "        y_1hot = F.one_hot(y, num_classes=n)\n",
    "        return y_pred - y_1hot\n",
    "    \n",
    "    def sigmoid_grad(self, z):\n",
    "        grad = self.sigmoid(z)*(1-self.sigmoid(z))\n",
    "        return grad\n",
    "    \n",
    "    def backward(self, x, y, learning_rate):\n",
    "        n = 10\n",
    "        #get grads\n",
    "        da2 = self.loss_grad(y, self.a2)\n",
    "        dw2 = torch.mm(torch.t(da2), torch.t(self.a1))\n",
    "        dchain1 = torch.mm(da2, self.w2)\n",
    "        s = self.sigmoid_grad(self.z1)\n",
    "        dchain2 = torch.t(dchain1)*s\n",
    "        dw1 = torch.mm(dchain2, x)\n",
    "        \n",
    "        #update param\n",
    "        self.w1 -= learning_rate * dw1\n",
    "        self.w2 -= learning_rate * dw2"
   ]
  },
  {
   "cell_type": "code",
   "execution_count": 59,
   "metadata": {},
   "outputs": [],
   "source": [
    "w1 = torch.rand(hidden_neurons, 784)/28\n",
    "w2 = torch.rand(10, hidden_neurons)/28\n",
    "lr = 0.01\n",
    "# lr_decay = 0.9\n",
    "# step_size = 10\n",
    "\n",
    "#train\n",
    "train_loss = []\n",
    "\n",
    "my_model = myNN(w1, w2)\n",
    "for epoch in range(EPOCHS):    \n",
    "    for data in trainset2:\n",
    "        loss_sum = 0\n",
    "        X, y = data\n",
    "        X = X.view(-1, 784)\n",
    "        out = my_model.forward(X)\n",
    "        loss = my_model.get_loss(y, out)\n",
    "        my_model.backward(X, y, lr)\n",
    "        loss_sum += loss\n",
    "    loss_avg = loss_sum*batch_size/len(trainset2.dataset)\n",
    "    train_loss.append(loss_avg)\n",
    "#     lr *= lr_decay**np.floor(epoch/step_size)"
   ]
  },
  {
   "cell_type": "code",
   "execution_count": 60,
   "metadata": {},
   "outputs": [
    {
     "name": "stdout",
     "output_type": "stream",
     "text": [
      "accuracy:  0.959     error rate:  0.041\n"
     ]
    }
   ],
   "source": [
    "#test\n",
    "correct = 0\n",
    "total = 0\n",
    "for data in testset2:\n",
    "    X_t, y_t = data\n",
    "    X_t = X_t.view(-1, 784)\n",
    "    y_t_pred = my_model.forward(X_t)\n",
    "    for idx, i in enumerate(y_t_pred):\n",
    "        if torch.argmax(i) == y_t[idx]:\n",
    "            correct += 1\n",
    "        total += 1\n",
    "acc = round(correct/total, 3)\n",
    "err = round(1 - acc, 4)\n",
    "print('accuracy: ', acc, '    error rate: ', err)"
   ]
  },
  {
   "cell_type": "code",
   "execution_count": 61,
   "metadata": {},
   "outputs": [
    {
     "data": {
      "image/png": "[encoded data removed]",
      "text/plain": [
       "<Figure size 432x288 with 1 Axes>"
      ]
     },
     "metadata": {
      "needs_background": "light"
     },
     "output_type": "display_data"
    }
   ],
   "source": [
    "#plot\n",
    "plot_learning_curve(train_loss, EPOCHS, 'custom implementation learning curve')"
   ]
  },
  {
   "cell_type": "code",
   "execution_count": 76,
   "metadata": {},
   "outputs": [],
   "source": [
    "#3 pytorch framework training\n",
    "class NN2(nn.Module):\n",
    "    def __init__(self):\n",
    "        super(NN2, self).__init__()\n",
    "        self.fc1 = nn.Linear(784, hidden_neurons)\n",
    "        self.fc2 = nn.Linear(hidden_neurons, 10)\n",
    "        \n",
    "    def forward(self, x):\n",
    "        x = self.fc1(x)\n",
    "        x = torch.sigmoid(x)\n",
    "        x = self.fc2(x)\n",
    "        x = F.softmax(x, dim=1)\n",
    "        return x"
   ]
  },
  {
   "cell_type": "code",
   "execution_count": 81,
   "metadata": {},
   "outputs": [],
   "source": [
    "model = NN2()\n",
    "opt = torch.optim.SGD(model.parameters(), lr=0.1)\n",
    "criterion = torch.nn.CrossEntropyLoss()"
   ]
  },
  {
   "cell_type": "code",
   "execution_count": 82,
   "metadata": {
    "scrolled": false
   },
   "outputs": [],
   "source": [
    "train_loss = train_model(model, EPOCHS)"
   ]
  },
  {
   "cell_type": "code",
   "execution_count": 83,
   "metadata": {},
   "outputs": [
    {
     "name": "stdout",
     "output_type": "stream",
     "text": [
      "accuracy:  0.833     error rate:  0.167\n"
     ]
    }
   ],
   "source": [
    "test_model(model)"
   ]
  },
  {
   "cell_type": "code",
   "execution_count": 84,
   "metadata": {
    "scrolled": true
   },
   "outputs": [
    {
     "data": {
      "image/png": "[encoded data removed]",
      "text/plain": [
       "<Figure size 432x288 with 1 Axes>"
      ]
     },
     "metadata": {
      "needs_background": "light"
     },
     "output_type": "display_data"
    }
   ],
   "source": [
    "plot_learning_curve(train_loss, EPOCHS, 'learning curve')"
   ]
  },
  {
   "cell_type": "code",
   "execution_count": null,
   "metadata": {},
   "outputs": [],
   "source": [
    "#4\n",
    "#set w1 to all zero\n",
    "all_zero_w1 = torch.zeros(hidden_neurons, 784)\n",
    "#set w2 to all zero\n",
    "all_zero_w2 = torch.zeros(10, hidden_neurons)\n",
    "\n",
    "model.fc1.weight = nn.Parameter(all_zero_w1)\n",
    "model.fc2.weight = nn.Parameter(all_zero_w2)\n",
    "\n",
    "opt = torch.optim.SGD(model.parameters(), lr=0.1)\n",
    "criterion = torch.nn.CrossEntropyLoss()\n",
    "\n",
    "train_loss = train_model(model, 200)"
   ]
  },
  {
   "cell_type": "code",
   "execution_count": 203,
   "metadata": {
    "scrolled": true
   },
   "outputs": [
    {
     "name": "stdout",
     "output_type": "stream",
     "text": [
      "accuracy:  0.911     error rate:  0.089\n"
     ]
    }
   ],
   "source": [
    "test_model(model)"
   ]
  },
  {
   "cell_type": "code",
   "execution_count": 204,
   "metadata": {},
   "outputs": [
    {
     "data": {
      "image/png": "[encoded data removed]",
      "text/plain": [
       "<Figure size 432x288 with 1 Axes>"
      ]
     },
     "metadata": {
      "needs_background": "light"
     },
     "output_type": "display_data"
    }
   ],
   "source": [
    "plot_learning_curve(train_loss, EPOCHS, 'learning curve with all zero initial weight')"
   ]
  },
  {
   "cell_type": "code",
   "execution_count": 69,
   "metadata": {},
   "outputs": [],
   "source": [
    "#set w1 to random number between -1 and 1\n",
    "rand_w1 = (torch.rand(hidden_neurons, 784)-0.5)*2 \n",
    "#set w2 to random number between -1 and 1\n",
    "rand_w2 = (torch.rand(10, hidden_neurons)-0.5)*2 \n",
    "\n",
    "model.fc1.weight = nn.Parameter(rand_w1)\n",
    "model.fc2.weight = nn.Parameter(rand_w2)\n",
    "\n",
    "opt = torch.optim.SGD(model.parameters(), lr=0.1)\n",
    "criterion = torch.nn.CrossEntropyLoss()\n",
    "\n",
    "train_loss = train_model(model, 200)"
   ]
  },
  {
   "cell_type": "code",
   "execution_count": 70,
   "metadata": {},
   "outputs": [
    {
     "name": "stdout",
     "output_type": "stream",
     "text": [
      "accuracy:  0.711     error rate:  0.289\n"
     ]
    }
   ],
   "source": [
    "test_model(model)"
   ]
  },
  {
   "cell_type": "code",
   "execution_count": 71,
   "metadata": {},
   "outputs": [
    {
     "data": {
      "image/png": "[encoded data removed]",
      "text/plain": [
       "<Figure size 432x288 with 1 Axes>"
      ]
     },
     "metadata": {
      "needs_background": "light"
     },
     "output_type": "display_data"
    }
   ],
   "source": [
    "plot_learning_curve(train_loss, EPOCHS, 'learning curve with random initial weight')"
   ]
  }
 ],
 "metadata": {
  "kernelspec": {
   "display_name": "Python 3",
   "language": "python",
   "name": "python3"
  },
  "language_info": {
   "codemirror_mode": {
    "name": "ipython",
    "version": 3
   },
   "file_extension": ".py",
   "mimetype": "text/x-python",
   "name": "python",
   "nbconvert_exporter": "python",
   "pygments_lexer": "ipython3",
   "version": "3.8.5"
  }
 },
 "nbformat": 4,
 "nbformat_minor": 4
}
